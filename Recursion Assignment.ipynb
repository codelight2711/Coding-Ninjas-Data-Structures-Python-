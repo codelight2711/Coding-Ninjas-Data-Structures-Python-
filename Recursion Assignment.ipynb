{
 "cells": [
  {
   "cell_type": "markdown",
   "metadata": {},
   "source": [
    "### Geometric Sum\n",
    "Send Feedback\n",
    "Given k, find the geometric sum i.e.\n",
    "1 + 1/2 + 1/4 + 1/8 + ... + 1/(2^k) \n",
    "using recursion.\n",
    "Input format :\n",
    "Integer k\n",
    "Output format :\n",
    "Geometric sum (upto 5 decimal places)\n",
    "Constraints :\n",
    "0 <= k <= 1000\n",
    "Sample Input 1 :\n",
    "3\n",
    "Sample Output 1 :\n",
    "1.87500\n",
    "Sample Input 2 :\n",
    "4\n",
    "Sample Output 2 :\n",
    "1.93750\n"
   ]
  },
  {
   "cell_type": "code",
   "execution_count": 1,
   "metadata": {},
   "outputs": [
    {
     "name": "stdout",
     "output_type": "stream",
     "text": [
      "4\n",
      "1.93750\n"
     ]
    }
   ],
   "source": [
    "def sum(n): \n",
    "      \n",
    "    # base case  \n",
    "    if n == 0: \n",
    "        return 1\n",
    "      \n",
    "    # calculate the sum each time \n",
    "    # and return final answer \n",
    "    return 1 / pow(2, n) + sum(n-1) \n",
    "  \n",
    "n = float(input()); \n",
    "print ('%.5f'%sum(n)) "
   ]
  },
  {
   "cell_type": "markdown",
   "metadata": {},
   "source": [
    "### Check Palindrome (recursive)\n",
    "Send Feedback\n",
    "Check whether a given String S is a palindrome using recursion. Return true or false.\n",
    "Input Format :\n",
    "String S\n",
    "Output Format :\n",
    "'true' or 'false'\n",
    "Constraints :\n",
    "0 <= |S| <= 1000\n",
    "where |S| represents length of string S.\n",
    "Sample Input 1 :\n",
    "racecar\n",
    "Sample Output 1:\n",
    "true\n",
    "Sample Input 2 :\n",
    "ninja\n",
    "Sample Output 2:\n",
    "false\n"
   ]
  },
  {
   "cell_type": "code",
   "execution_count": 2,
   "metadata": {},
   "outputs": [
    {
     "name": "stdout",
     "output_type": "stream",
     "text": [
      "ninja\n",
      "false\n"
     ]
    }
   ],
   "source": [
    "## Read input as specified in the question.\n",
    "## Print output as specified in the question.\n",
    "def isPalRec(st, s, e) : \n",
    "      \n",
    "    # If there is only one character \n",
    "    if (s == e): \n",
    "        return True \n",
    "    if (st[s] != st[e]) : \n",
    "        return False\n",
    "    if (s < e + 1) : \n",
    "        return isPalRec(st, s + 1, e - 1); \n",
    "  \n",
    "    return True\n",
    "  \n",
    "def isPalindrome(st) : \n",
    "    n = len(st) \n",
    "      \n",
    "    if (n == 0) : \n",
    "        return True\n",
    "      \n",
    "    return isPalRec(st, 0, n - 1); \n",
    "  \n",
    "  \n",
    "st = input()\n",
    "if (isPalindrome(st)) : \n",
    "    print ('true')\n",
    "else:\n",
    "    print ('false')\n"
   ]
  },
  {
   "cell_type": "markdown",
   "metadata": {},
   "source": [
    "### Sum of digits (recursive)\n",
    "Send Feedback\n",
    "Write a recursive function that returns the sum of the digits of a given integer.\n",
    "Input format :\n",
    "Integer N\n",
    "Output format :\n",
    "Sum of digits of N\n",
    "Constraints :\n",
    "0 <= N <= 10^9\n",
    "Sample Input 1 :\n",
    "12345\n",
    "Sample Output 1 :\n",
    "15\n",
    "Sample Input 2 :\n",
    "9\n",
    "Sample Output 2 :\n",
    "9"
   ]
  },
  {
   "cell_type": "code",
   "execution_count": 4,
   "metadata": {},
   "outputs": [
    {
     "name": "stdout",
     "output_type": "stream",
     "text": [
      "12345\n",
      "15\n"
     ]
    }
   ],
   "source": [
    "## Read input as specified in the question.\n",
    "## Print output as specified in the question.\n",
    "def sum_of_digit( n ): \n",
    "    if n == 0: \n",
    "        return 0\n",
    "    return (n % 10 + sum_of_digit(int(n / 10))) \n",
    "  \n",
    "# Driven code to check above \n",
    "num = int(input())\n",
    "result = sum_of_digit(num) \n",
    "print(result) "
   ]
  },
  {
   "cell_type": "markdown",
   "metadata": {},
   "source": [
    "### Multiplication (Recursive)\n",
    "Send Feedback\n",
    "Given two integers M & N, calculate and return their multiplication using recursion. You can only use subtraction and addition for your calculation. No other operators are allowed.\n",
    "Input format :\n",
    "Line 1 : Integer M\n",
    "Line 2 : Integer N\n",
    "Output format :\n",
    "M x N\n",
    "Constraints :\n",
    "0 <= M <= 1000\n",
    "0 <= N <= 1000\n",
    "Sample Input 1 :\n",
    "3 \n",
    "5\n",
    "Sample Output 1 :\n",
    "15\n",
    "Sample Input 2 :\n",
    "4 \n",
    "0\n",
    "Sample Output 2 :\n",
    "0\n"
   ]
  },
  {
   "cell_type": "code",
   "execution_count": 5,
   "metadata": {},
   "outputs": [
    {
     "name": "stdout",
     "output_type": "stream",
     "text": [
      "4\n",
      "5\n",
      "20\n"
     ]
    }
   ],
   "source": [
    "## Read input as specified in the question.\n",
    "## Print output as specified in the question.\n",
    "def product( x , y ): \n",
    "    # if x is less than y swap \n",
    "    # the numbers \n",
    "    if x < y: \n",
    "        return product(y, x) \n",
    "      \n",
    "    # iteratively calculate y \n",
    "    # times sum of x \n",
    "    elif y != 0: \n",
    "        return (x + product(x, y - 1)) \n",
    "      \n",
    "    # if any of the two numbers is \n",
    "    # zero return zero \n",
    "    else: \n",
    "        return 0\n",
    "  \n",
    "# Driver code \n",
    "x = int(input())\n",
    "y = int(input())\n",
    "print( product(x, y))"
   ]
  },
  {
   "cell_type": "markdown",
   "metadata": {},
   "source": [
    "### Count Zeros\n",
    "Send Feedback\n",
    "Given an integer N, count and return the number of zeros that are present in the given integer using recursion.\n",
    "Input Format :\n",
    "Integer N\n",
    "Output Format :\n",
    "Number of zeros in N\n",
    "Constraints :\n",
    "0 <= N <= 10^9\n",
    "Sample Input 1 :\n",
    "0\n",
    "Sample Output 1 :\n",
    "1\n",
    "Sample Input 2 :\n",
    "00010204\n",
    "Sample Output 2 :\n",
    "2\n",
    "Explanation for Sample Output 2 :\n",
    "Even though \"00010204\" has 5 zeros, the output would still be 2 because when you convert it to an integer, it becomes 10204.\n",
    "Sample Input 3 :\n",
    "708000\n",
    "Sample Output 3 :\n",
    "4\n"
   ]
  },
  {
   "cell_type": "code",
   "execution_count": 6,
   "metadata": {},
   "outputs": [
    {
     "name": "stdout",
     "output_type": "stream",
     "text": [
      "708000\n",
      "4\n"
     ]
    }
   ],
   "source": [
    "n=input()\n",
    "for i in range(0,len(n)):\n",
    "    if int(n[i])>0:\n",
    "        break\n",
    "n1=i\n",
    "couunt=0\n",
    "for x in range(n1,len(n)):\n",
    "    if int(n[x])==0:\n",
    "        couunt+=1\n",
    "        \n",
    "print(couunt)"
   ]
  },
  {
   "cell_type": "markdown",
   "metadata": {},
   "source": [
    "### String to Integer\n",
    "Send Feedback\n",
    "Write a recursive function to convert a given string into the number it represents. That is input will be a numeric string that contains only numbers, you need to convert the string into corresponding integer and return the answer.\n",
    "Input format :\n",
    "Numeric string S (string, Eg. \"1234\")\n",
    "Output format :\n",
    "Corresponding integer N (int, Eg. 1234)\n",
    "Constraints :\n",
    "0 <= |S| <= 9\n",
    "where |S| represents length of string S.\n",
    "Sample Input 1 :\n",
    "00001231\n",
    "Sample Output 1 :\n",
    "1231\n",
    "Sample Input 2 :\n",
    "12567\n",
    "Sample Output 2 :\n",
    "12567"
   ]
  },
  {
   "cell_type": "code",
   "execution_count": 7,
   "metadata": {},
   "outputs": [
    {
     "name": "stdout",
     "output_type": "stream",
     "text": [
      "000012310\n",
      "12310\n"
     ]
    }
   ],
   "source": [
    "## Read input as specified in the question.\n",
    "## Print output as specified in the question.\n",
    "def stringToInt(str): \n",
    " \n",
    "    if (len(str) == 1): \n",
    "        return ord(str[0]) - ord('0'); \n",
    "  \n",
    "    y = stringToInt(str[1:]); \n",
    "  \n",
    "    x = ord(str[0]) - ord('0'); \n",
    "      \n",
    "    x = x * (10**(len(str) - 1)) + y; \n",
    "    return int(x); \n",
    "  \n",
    "# Driver code \n",
    "if __name__ == '__main__': \n",
    "    str = input(); \n",
    "    print(stringToInt(str)); "
   ]
  },
  {
   "cell_type": "markdown",
   "metadata": {},
   "source": [
    "### Pair Star\n",
    "Send Feedback\n",
    "Given a string S, compute recursively a new string where identical chars that are adjacent in the original string are separated from each other by a \"*\".\n",
    "Input format :\n",
    "String S\n",
    "Output format :\n",
    "Modified string\n",
    "Constraints :\n",
    "0 <= |S| <= 1000\n",
    "where |S| represents length of string S.\n",
    "Sample Input 1 :\n",
    "hello\n",
    "Sample Output 1:\n",
    "hel*lo\n",
    "Sample Input 2 :\n",
    "aaaa\n",
    "Sample Output 2 :\n",
    "a*a*a*a"
   ]
  },
  {
   "cell_type": "code",
   "execution_count": 8,
   "metadata": {},
   "outputs": [
    {
     "name": "stdout",
     "output_type": "stream",
     "text": [
      "aaaa\n",
      "a*a*a*a\n"
     ]
    }
   ],
   "source": [
    "## Read input as specified in the question.\n",
    "## Print output as specified in the question.\n",
    "def pairStar(Input, Output, i = 0) : \n",
    "      \n",
    "    # Append current character  \n",
    "    Output = Output + Input[i] \n",
    "  \n",
    "    # If we reached last character  \n",
    "    if (i == len(Input) - 1) : \n",
    "        print(Output) \n",
    "        return;  \n",
    "  \n",
    "    # If next character is same,  \n",
    "    # append '*'  \n",
    "    if (Input[i] == Input[i + 1]) :  \n",
    "        Output = Output + '*';  \n",
    "  \n",
    "    pairStar(Input, Output, i + 1);  \n",
    "  \n",
    "# Driver code  \n",
    "if __name__ == \"__main__\" : \n",
    "  \n",
    "    Input = input()\n",
    "    Output = \"\" \n",
    "    pairStar(Input, Output);"
   ]
  },
  {
   "cell_type": "markdown",
   "metadata": {},
   "source": [
    "### Check AB\n",
    "Send Feedback\n",
    "Suppose you have a string, S, made up of only 'a's and 'b's. Write a recursive function that checks if the string was generated using the following rules:\n",
    "a. The string begins with an 'a'\n",
    "b. Each 'a' is followed by nothing or an 'a' or \"bb\"\n",
    "c. Each \"bb\" is followed by nothing or an 'a'\n",
    "If all the rules are followed by the given string, return true otherwise return false.\n",
    "Input format :\n",
    "String S\n",
    "Output format :\n",
    "'true' or 'false'\n",
    "Constraints :\n",
    "0 <= |S| <= 1000\n",
    "where |S| represents length of string S.\n",
    "Sample Input 1 :\n",
    "abb\n",
    "Sample Output 1 :\n",
    "true\n",
    "Sample Input 2 :\n",
    "abababa\n",
    "Sample Output 2 :\n",
    "false"
   ]
  },
  {
   "cell_type": "code",
   "execution_count": 9,
   "metadata": {},
   "outputs": [
    {
     "name": "stdout",
     "output_type": "stream",
     "text": [
      "abb\n",
      "true\n"
     ]
    }
   ],
   "source": [
    "def checkAB(str):\n",
    "    if (len(str) == 0):\n",
    "        return True\n",
    "\n",
    "    if (str[0] == 'a'):\n",
    "        if (len(str[1:]) > 1 and str[1:3] == 'bb'):\n",
    "            return checkAB(str[3:])\n",
    "        else:\n",
    "            return checkAB(str[1:])\n",
    "    else:\n",
    "        return False\n",
    "str=input()\n",
    "if checkAB(str):\n",
    "    print('true')\n",
    "else:\n",
    "    print('false')"
   ]
  },
  {
   "cell_type": "markdown",
   "metadata": {},
   "source": [
    "### Staircase\n",
    "Send Feedback\n",
    "A child is running up a staircase with N steps, and can hop either 1 step, 2 steps or 3 steps at a time. Implement a method to count how many possible ways the child can run up to the stairs. You need to return number of possible ways W.\n",
    "Input format :\n",
    "Integer N\n",
    "Output Format :\n",
    "Integer W\n",
    "Constraints :\n",
    "1 <= N <= 30\n",
    "Sample Input 1 :\n",
    "4\n",
    "Sample Output 1 :\n",
    "7\n",
    "Sample Input 2 :\n",
    "5\n",
    "Sample Output 2 :\n",
    "13"
   ]
  },
  {
   "cell_type": "code",
   "execution_count": 10,
   "metadata": {},
   "outputs": [
    {
     "name": "stdout",
     "output_type": "stream",
     "text": [
      "5\n",
      "13\n"
     ]
    }
   ],
   "source": [
    "## Read input as specified in the question.\n",
    "## Print output as specified in the question.\n",
    "def findStep( n) : \n",
    "    if (n == 1 or n == 0) : \n",
    "        return 1\n",
    "    elif (n == 2) : \n",
    "        return 2\n",
    "      \n",
    "    else : \n",
    "        return findStep(n - 3) + findStep(n - 2) + findStep(n - 1) \n",
    "    \n",
    "n=int(input())\n",
    "print(findStep(n))"
   ]
  },
  {
   "cell_type": "code",
   "execution_count": null,
   "metadata": {},
   "outputs": [],
   "source": []
  }
 ],
 "metadata": {
  "kernelspec": {
   "display_name": "Python 3",
   "language": "python",
   "name": "python3"
  },
  "language_info": {
   "codemirror_mode": {
    "name": "ipython",
    "version": 3
   },
   "file_extension": ".py",
   "mimetype": "text/x-python",
   "name": "python",
   "nbconvert_exporter": "python",
   "pygments_lexer": "ipython3",
   "version": "3.7.3"
  }
 },
 "nbformat": 4,
 "nbformat_minor": 2
}
