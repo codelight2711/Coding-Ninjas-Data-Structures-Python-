{
 "cells": [
  {
   "cell_type": "markdown",
   "metadata": {},
   "source": [
    "### Remove X\n",
    "Send Feedback\n",
    "Given a string, compute recursively a new string where all 'x' chars have been removed.\n",
    "Input format :\n",
    "String S\n",
    "Output format :\n",
    "Modified String\n",
    "Constraints :\n",
    "1 <= |S| <= 10^3\n",
    "where |S| represents the length of string S. \n",
    "Sample Input 1 :\n",
    "xaxb\n",
    "Sample Output 1:\n",
    "ab\n",
    "Sample Input 2 :\n",
    "abc\n",
    "Sample Output 2:\n",
    "abc\n",
    "Sample Input 3 :\n",
    "xx\n",
    "Sample Output 3:"
   ]
  },
  {
   "cell_type": "code",
   "execution_count": 1,
   "metadata": {},
   "outputs": [
    {
     "name": "stdout",
     "output_type": "stream",
     "text": [
      "xaxb\n",
      "ab\n"
     ]
    }
   ],
   "source": [
    "# Problem: Remove x from string\n",
    "def removeX(string): \n",
    "    if len(string) == 0:\n",
    "        return string\n",
    "    smallOutput = removeX(string[1:])\n",
    "    if string[0] == 'x':\n",
    "        return smallOutput\n",
    "    else:\n",
    "        return string[0] + smallOutput\n",
    "\n",
    "\n",
    "\n",
    "# Main\n",
    "string = input()\n",
    "print(removeX(string))\n"
   ]
  },
  {
   "cell_type": "markdown",
   "metadata": {},
   "source": [
    "### Remove Duplicates Recursively\n",
    "Send Feedback\n",
    "Given a string S, remove consecutive duplicates from it recursively.\n",
    "Input Format :\n",
    "String S\n",
    "Output Format :\n",
    "Output string\n",
    "Constraints :\n",
    "1 <= |S| <= 10^3\n",
    "where |S| represents the length of string\n",
    "Sample Input 1 :\n",
    "aabccba\n",
    "Sample Output 1 :\n",
    "abcba\n",
    "Sample Input 2 :\n",
    "xxxyyyzwwzzz\n",
    "Sample Output 2 :\n",
    "xyzwz"
   ]
  },
  {
   "cell_type": "code",
   "execution_count": 2,
   "metadata": {},
   "outputs": [
    {
     "name": "stdout",
     "output_type": "stream",
     "text": [
      "aabccba\n",
      "abcba\n"
     ]
    }
   ],
   "source": [
    "# Problem ID 91, removeConsecutiveDuplicates\n",
    "def removeConsecutiveDuplicates(string):\n",
    "    # Please add your code here\n",
    "\n",
    "    if len(string) == 1:\n",
    "        return string\n",
    "    \n",
    "    if string[0] == string[1]:\n",
    "        smallOutput = removeConsecutiveDuplicates(string[1:])\n",
    "        return smallOutput   \n",
    "    \n",
    "    else:\n",
    "        nextOutput = removeConsecutiveDuplicates(string[1:])\n",
    "        return string[0] + nextOutput\n",
    "\n",
    "\n",
    "# Main\n",
    "string = input().strip()\n",
    "print(removeConsecutiveDuplicates(string))\n"
   ]
  },
  {
   "cell_type": "markdown",
   "metadata": {},
   "source": [
    "### Merge Sort Code\n",
    "Send Feedback\n",
    "Sort an array A using Merge Sort.\n",
    "Change in the input array itself. So no need to return or print anything.\n",
    "Input format :\n",
    "Line 1 : Integer n i.e. Array size\n",
    "Line 2 : Array elements (separated by space)\n",
    "Output format :\n",
    "Array elements in increasing order (separated by space)\n",
    "Constraints :\n",
    "1 <= n <= 10^3\n",
    "Sample Input 1 :\n",
    "6 \n",
    "2 6 8 5 4 3\n",
    "Sample Output 1 :\n",
    "2 3 4 5 6 8\n",
    "Sample Input 2 :\n",
    "5\n",
    "2 1 5 2 3\n",
    "Sample Output 2 :\n",
    "1 2 2 3 5"
   ]
  },
  {
   "cell_type": "code",
   "execution_count": 3,
   "metadata": {},
   "outputs": [
    {
     "name": "stdout",
     "output_type": "stream",
     "text": [
      "6\n",
      "2 6 8 5 4 3\n",
      "2 3 4 5 6 8\n"
     ]
    }
   ],
   "source": [
    "def merge(a1,a2,a):\n",
    "    i=0\n",
    "    j=0\n",
    "    k=0\n",
    "    while i<len(a1) and j<len(a2):\n",
    "        if(a1[i]<a2[j]):\n",
    "            a[k]=a1[i]\n",
    "            k=k+1\n",
    "            i=i+1\n",
    "        else:\n",
    "            a[k]=a2[j]\n",
    "            k=k+1\n",
    "            j=j+1\n",
    "            \n",
    "    while i<len(a1):\n",
    "        a[k]=a1[i]\n",
    "        k=k+1\n",
    "        i=i+1\n",
    "    while j<len(a2):\n",
    "        a[k]=a2[j]\n",
    "        k=k+1\n",
    "        j=j+1\n",
    "def merge_sort(a):\n",
    "    if len(a)==0 or len(a)==1:\n",
    "        return\n",
    "    mid=len(a)//2\n",
    "    a1 =a[0:mid]\n",
    "    a2= a[mid:]\n",
    "    \n",
    "    merge_sort(a1)\n",
    "    merge_sort(a2)\n",
    "    \n",
    "    merge(a1,a2,a)        \n",
    "\n",
    "# Main\n",
    "n=int(input())\n",
    "a=list(int(i) for i in input().strip().split(' '))\n",
    "merge_sort(a)\n",
    "print(*a)\n"
   ]
  },
  {
   "cell_type": "markdown",
   "metadata": {},
   "source": [
    "### Quick Sort Code\n",
    "Send Feedback\n",
    "Sort an array A using Quick Sort.\n",
    "Change in the input array itself. So no need to return or print anything.\n",
    "\n",
    "\n",
    "Input format :\n",
    "Line 1 : Integer n i.e. Array size\n",
    "Line 2 : Array elements (separated by space)\n",
    "Output format :\n",
    "Array elements in increasing order (separated by space)\n",
    "Constraints :\n",
    "1 <= n <= 10^3\n",
    "Sample Input 1 :\n",
    "6 \n",
    "2 6 8 5 4 3\n",
    "Sample Output 1 :\n",
    "2 3 4 5 6 8\n",
    "Sample Input 2 :\n",
    "5\n",
    "1 5 2 7 3\n",
    "Sample Output 2 :\n",
    "1 2 3 5 7 \n"
   ]
  },
  {
   "cell_type": "code",
   "execution_count": 4,
   "metadata": {},
   "outputs": [
    {
     "name": "stdout",
     "output_type": "stream",
     "text": [
      "6\n",
      "2 6 8 5 4 3\n",
      "2 3 4 5 6 8\n"
     ]
    }
   ],
   "source": [
    "def partition(a, si, ei):\n",
    "    pivot = a[si]\n",
    "    #find number of elements smaller than pivot    \n",
    "    count = 0\n",
    "    \n",
    "    for i in range(si, ei+1):\n",
    "        if a[i] < pivot:\n",
    "            count = count + 1\n",
    "    \n",
    "    a[si+count], a[si] = a[si], a[si+count]\n",
    "    pivot_index = si + count\n",
    "    \n",
    "    i = si\n",
    "    j = ei\n",
    "\n",
    "    while i < j:\n",
    "      if a[i] < pivot:\n",
    "        i = i + 1\n",
    "      elif a[j] >= pivot:\n",
    "        j = j - 1\n",
    "      else:\n",
    "        a[i], a[j] = a[j], a[i]\n",
    "        i = i + 1\n",
    "        j = j - 1\n",
    "        \n",
    "    return pivot_index\n",
    "def quick_sort(a, si, ei):\n",
    "    if si >= ei:\n",
    "        return \n",
    "    \n",
    "    pivot_index = partition(a, si, ei)\n",
    "    quick_sort(a, si, pivot_index-1)\n",
    "    quick_sort(a, pivot_index+1, ei)\n",
    "\n",
    "ei=int(input())\n",
    "a=list(int(i) for i in input().strip().split(' '))\n",
    "quick_sort(a, 0, ei-1)\n",
    "print(*a)\n"
   ]
  },
  {
   "cell_type": "markdown",
   "metadata": {},
   "source": [
    "### Tower Of Hanoi - Problem\n",
    "Send Feedback\n",
    "Tower of Hanoi is a mathematical puzzle where we have three rods and n disks. The objective of the puzzle is to move all disks from source rod to destination rod using third rod (say auxiliary). The rules are :\n",
    "1) Only one disk can be moved at a time.\n",
    "2) A disk can be moved only if it is on the top of a rod.\n",
    "3) No disk can be placed on the top of a smaller disk.\n",
    "Print the steps required to move n disks from source rod to destination rod.\n",
    "Source Rod is named as 'a', auxiliary rod as 'b' and destination rod as 'c'.\n",
    "Input Format :\n",
    "Integer n\n",
    "Output Format :\n",
    "Steps in different lines (in one line print source and destination rod name separated by space)\n",
    "Constraints :\n",
    "0 <= n <= 20\n",
    "Sample Input 1 :\n",
    "2\n",
    "Sample Output 1 :\n",
    "a b\n",
    "a c\n",
    "b c\n",
    "Sample Input 2 :\n",
    "3\n",
    "Sample Output 2 :\n",
    "a c\n",
    "a b\n",
    "c b\n",
    "a c\n",
    "b a\n",
    "b c\n",
    "a c"
   ]
  },
  {
   "cell_type": "code",
   "execution_count": 5,
   "metadata": {},
   "outputs": [
    {
     "name": "stdout",
     "output_type": "stream",
     "text": [
      "3\n",
      "a  c\n",
      "a  b\n",
      "c  b\n",
      "a  c\n",
      "b  a\n",
      "b  c\n",
      "a  c\n"
     ]
    }
   ],
   "source": [
    "def towerofhanoi(n, source, aux, dest):\n",
    "    if n==1:\n",
    "        print(source,\"\",dest)\n",
    "        return\n",
    "    elif n<1:\n",
    "        return\n",
    "    towerofhanoi(n-1,source,dest,aux)\n",
    "    print(source,\"\",dest)\n",
    "    towerofhanoi(n-1,aux,source,dest)\n",
    "\n",
    "n=int(input())\n",
    "towerofhanoi(n, 'a', 'b', 'c')"
   ]
  },
  {
   "cell_type": "code",
   "execution_count": null,
   "metadata": {},
   "outputs": [],
   "source": []
  }
 ],
 "metadata": {
  "kernelspec": {
   "display_name": "Python 3",
   "language": "python",
   "name": "python3"
  },
  "language_info": {
   "codemirror_mode": {
    "name": "ipython",
    "version": 3
   },
   "file_extension": ".py",
   "mimetype": "text/x-python",
   "name": "python",
   "nbconvert_exporter": "python",
   "pygments_lexer": "ipython3",
   "version": "3.7.3"
  }
 },
 "nbformat": 4,
 "nbformat_minor": 2
}
